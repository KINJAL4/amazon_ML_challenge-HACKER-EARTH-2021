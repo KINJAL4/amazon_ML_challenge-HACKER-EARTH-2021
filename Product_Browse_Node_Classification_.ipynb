{
  "nbformat": 4,
  "nbformat_minor": 0,
  "metadata": {
    "colab": {
      "name": "Product Browse Node Classification..ipynb",
      "provenance": [],
      "collapsed_sections": []
    },
    "kernelspec": {
      "display_name": "Python 3",
      "name": "python3"
    },
    "language_info": {
      "name": "python"
    },
    "accelerator": "GPU"
  },
  "cells": [
    {
      "cell_type": "markdown",
      "metadata": {
        "id": "IvMxxh18biCU"
      },
      "source": [
        "####Amazon catalog consists of billions of products that belong to thousands of browse nodes (each browse node represents a collection of items for sale). Browse nodes are used to help customer navigate through amazon website and classify products to product type groups. Hence, it is important to predict the node assignment at the time of listing of the product or when the browse node information is absent.\n"
      ]
    },
    {
      "cell_type": "markdown",
      "metadata": {
        "id": "tFj3WmcAHBVS"
      },
      "source": [
        "**Data Description**\n",
        "\n",
        "Full Train/Test dataset details:\n",
        "\n",
        "*   Key column – PRODUCT_ID\n",
        "*   Input features – TITLE, DESCRIPTION, BULLET_POINTS, BRAND\n",
        "*   Target column – BROWSE_NODE_ID\n",
        "*   Train dataset size – 2,903,024\n",
        "*   Number of classes in Train – 9,919\n",
        "*   Overall Test dataset size – 110,775\n"
      ]
    },
    {
      "cell_type": "markdown",
      "metadata": {
        "id": "X6OsQifqHGwr"
      },
      "source": [
        "### loading dataset"
      ]
    },
    {
      "cell_type": "code",
      "metadata": {
        "id": "u8Z3Ui4nG3qd"
      },
      "source": [
        "!wget -q !wget https://s3-ap-southeast-1.amazonaws.com/he-public-data/dataset52a7b21.zip"
      ],
      "execution_count": 1,
      "outputs": []
    },
    {
      "cell_type": "code",
      "metadata": {
        "colab": {
          "base_uri": "https://localhost:8080/"
        },
        "id": "p_yCff-4bk_r",
        "outputId": "d9dbbda0-1f18-4171-983c-0e478dbb0ac9"
      },
      "source": [
        "! unzip /content/dataset52a7b21.zip"
      ],
      "execution_count": 2,
      "outputs": [
        {
          "output_type": "stream",
          "text": [
            "Archive:  /content/dataset52a7b21.zip\n",
            "   creating: dataset/\n",
            "  inflating: dataset/train.csv       \n",
            "  inflating: dataset/sample_submission.csv  \n",
            "  inflating: dataset/test.csv        \n",
            "  inflating: dataset/.~lock.train.csv#  \n"
          ],
          "name": "stdout"
        }
      ]
    },
    {
      "cell_type": "markdown",
      "metadata": {
        "id": "Cmj8rZIDHR94"
      },
      "source": [
        "### let's import necessary library\n",
        "\n"
      ]
    },
    {
      "cell_type": "code",
      "metadata": {
        "id": "QXbnT3TFcHMD"
      },
      "source": [
        "import pandas as pd\n",
        "import numpy as np\n",
        "import os\n",
        "import re\n",
        "import csv"
      ],
      "execution_count": 1,
      "outputs": []
    },
    {
      "cell_type": "code",
      "metadata": {
        "id": "Py8ANXxCC4o-"
      },
      "source": [
        "import nltk\n",
        "from nltk.tokenize import word_tokenize\n",
        "from nltk.corpus import stopwords\n",
        "from spacy.lang.en.stop_words import STOP_WORDS\n",
        "from itertools import filterfalse\n",
        "from nltk import pos_tag\n",
        "from nltk.stem import WordNetLemmatizer\n",
        "from nltk.corpus import wordnet\n",
        "from sklearn.feature_extraction.text import TfidfVectorizer\n",
        "from sklearn.decomposition import PCA\n",
        "from sklearn.naive_bayes import GaussianNB\n",
        "from sklearn.metrics import classification_report"
      ],
      "execution_count": 2,
      "outputs": []
    },
    {
      "cell_type": "code",
      "metadata": {
        "colab": {
          "base_uri": "https://localhost:8080/"
        },
        "id": "1yGWhEubC4ro",
        "outputId": "547f4f5f-d618-4768-ef79-37378ce7399d"
      },
      "source": [
        "!pip install contractions"
      ],
      "execution_count": 3,
      "outputs": [
        {
          "output_type": "stream",
          "text": [
            "Requirement already satisfied: contractions in /usr/local/lib/python3.7/dist-packages (0.0.52)\n",
            "Requirement already satisfied: textsearch>=0.0.21 in /usr/local/lib/python3.7/dist-packages (from contractions) (0.0.21)\n",
            "Requirement already satisfied: anyascii in /usr/local/lib/python3.7/dist-packages (from textsearch>=0.0.21->contractions) (0.2.0)\n",
            "Requirement already satisfied: pyahocorasick in /usr/local/lib/python3.7/dist-packages (from textsearch>=0.0.21->contractions) (1.4.2)\n"
          ],
          "name": "stdout"
        }
      ]
    },
    {
      "cell_type": "markdown",
      "metadata": {
        "id": "89JdWJvwPLj4"
      },
      "source": [
        "###read dataset"
      ]
    },
    {
      "cell_type": "code",
      "metadata": {
        "colab": {
          "base_uri": "https://localhost:8080/"
        },
        "id": "eyf6LJJgC4uq",
        "outputId": "8810dd06-0609-431f-ccf0-b99f7fe06f0b"
      },
      "source": [
        "train_data =pd.read_csv(\"/content/dataset/train.csv\",escapechar=\"\\\\\",quoting=csv.QUOTE_NONE,nrows=150000)\n",
        "train_data.shape"
      ],
      "execution_count": 4,
      "outputs": [
        {
          "output_type": "execute_result",
          "data": {
            "text/plain": [
              "(150000, 5)"
            ]
          },
          "metadata": {
            "tags": []
          },
          "execution_count": 4
        }
      ]
    },
    {
      "cell_type": "code",
      "metadata": {
        "colab": {
          "base_uri": "https://localhost:8080/"
        },
        "id": "yOqF9Y1OC4xa",
        "outputId": "54571c4a-8b2b-421a-9823-53d468063f1e"
      },
      "source": [
        "import nltk\n",
        "nltk.download('punkt')"
      ],
      "execution_count": 5,
      "outputs": [
        {
          "output_type": "stream",
          "text": [
            "[nltk_data] Downloading package punkt to /root/nltk_data...\n",
            "[nltk_data]   Package punkt is already up-to-date!\n"
          ],
          "name": "stdout"
        },
        {
          "output_type": "execute_result",
          "data": {
            "text/plain": [
              "True"
            ]
          },
          "metadata": {
            "tags": []
          },
          "execution_count": 5
        }
      ]
    },
    {
      "cell_type": "code",
      "metadata": {
        "colab": {
          "base_uri": "https://localhost:8080/"
        },
        "id": "fFpoj77dC40W",
        "outputId": "6db068e4-367b-42ef-fdcb-faca56e65c38"
      },
      "source": [
        "import nltk\n",
        "nltk.download('wordnet')"
      ],
      "execution_count": 6,
      "outputs": [
        {
          "output_type": "stream",
          "text": [
            "[nltk_data] Downloading package wordnet to /root/nltk_data...\n",
            "[nltk_data]   Package wordnet is already up-to-date!\n"
          ],
          "name": "stdout"
        },
        {
          "output_type": "execute_result",
          "data": {
            "text/plain": [
              "True"
            ]
          },
          "metadata": {
            "tags": []
          },
          "execution_count": 6
        }
      ]
    },
    {
      "cell_type": "markdown",
      "metadata": {
        "id": "Z0lH93rJPTjf"
      },
      "source": [
        "### fill null values with 0"
      ]
    },
    {
      "cell_type": "code",
      "metadata": {
        "id": "X0ykBihAC43i"
      },
      "source": [
        "train_data=train_data.fillna(0)\n"
      ],
      "execution_count": 7,
      "outputs": []
    },
    {
      "cell_type": "markdown",
      "metadata": {
        "id": "wzGJiZloQASx"
      },
      "source": [
        "### combining all text containing columns for better evaluation"
      ]
    },
    {
      "cell_type": "code",
      "metadata": {
        "colab": {
          "base_uri": "https://localhost:8080/",
          "height": 289
        },
        "id": "J61gW8gYC46L",
        "outputId": "1ea84b00-8a2d-4d70-d83e-e8c9be68ab14"
      },
      "source": [
        "cols = ['TITLE','DESCRIPTION','BULLET_POINTS']\n",
        "train_data[\"text\"] =train_data[\"TITLE\"].astype(str) + train_data[\"DESCRIPTION\"].astype(str) + train_data[\"BULLET_POINTS\"].astype(str)\n",
        "train_data.head()"
      ],
      "execution_count": 8,
      "outputs": [
        {
          "output_type": "execute_result",
          "data": {
            "text/html": [
              "<div>\n",
              "<style scoped>\n",
              "    .dataframe tbody tr th:only-of-type {\n",
              "        vertical-align: middle;\n",
              "    }\n",
              "\n",
              "    .dataframe tbody tr th {\n",
              "        vertical-align: top;\n",
              "    }\n",
              "\n",
              "    .dataframe thead th {\n",
              "        text-align: right;\n",
              "    }\n",
              "</style>\n",
              "<table border=\"1\" class=\"dataframe\">\n",
              "  <thead>\n",
              "    <tr style=\"text-align: right;\">\n",
              "      <th></th>\n",
              "      <th>TITLE</th>\n",
              "      <th>DESCRIPTION</th>\n",
              "      <th>BULLET_POINTS</th>\n",
              "      <th>BRAND</th>\n",
              "      <th>BROWSE_NODE_ID</th>\n",
              "      <th>text</th>\n",
              "    </tr>\n",
              "  </thead>\n",
              "  <tbody>\n",
              "    <tr>\n",
              "      <th>0</th>\n",
              "      <td>Pete The Cat Bedtime Blues Doll, 14.5 Inch</td>\n",
              "      <td>Pete the Cat is the coolest, most popular cat ...</td>\n",
              "      <td>[Pete the Cat Bedtime Blues plush doll,Based o...</td>\n",
              "      <td>MerryMakers</td>\n",
              "      <td>0</td>\n",
              "      <td>Pete The Cat Bedtime Blues Doll, 14.5 InchPete...</td>\n",
              "    </tr>\n",
              "    <tr>\n",
              "      <th>1</th>\n",
              "      <td>The New Yorker NYHM014 Refrigerator Magnet, 2 ...</td>\n",
              "      <td>The New Yorker Handsome Cello Wrapped Hard Mag...</td>\n",
              "      <td>[Cat In A Tea Cup by New Yorker cover artist G...</td>\n",
              "      <td>The New Yorker</td>\n",
              "      <td>1</td>\n",
              "      <td>The New Yorker NYHM014 Refrigerator Magnet, 2 ...</td>\n",
              "    </tr>\n",
              "    <tr>\n",
              "      <th>2</th>\n",
              "      <td>The Ultimate Self-Sufficiency Handbook: A Comp...</td>\n",
              "      <td>0</td>\n",
              "      <td>Skyhorse Publishing</td>\n",
              "      <td>imusti</td>\n",
              "      <td>2</td>\n",
              "      <td>The Ultimate Self-Sufficiency Handbook: A Comp...</td>\n",
              "    </tr>\n",
              "    <tr>\n",
              "      <th>3</th>\n",
              "      <td>Amway Nutrilite Kids Chewable Iron Tablets (100)</td>\n",
              "      <td>0</td>\n",
              "      <td>[Nutrilite Kids,Chewable Iron Tablets,Quantity...</td>\n",
              "      <td>Amway</td>\n",
              "      <td>3</td>\n",
              "      <td>Amway Nutrilite Kids Chewable Iron Tablets (10...</td>\n",
              "    </tr>\n",
              "    <tr>\n",
              "      <th>4</th>\n",
              "      <td>Teacher Planner Company A4 6 Lesson Academic T...</td>\n",
              "      <td>0</td>\n",
              "      <td>0</td>\n",
              "      <td>0</td>\n",
              "      <td>4</td>\n",
              "      <td>Teacher Planner Company A4 6 Lesson Academic T...</td>\n",
              "    </tr>\n",
              "  </tbody>\n",
              "</table>\n",
              "</div>"
            ],
            "text/plain": [
              "                                               TITLE  ...                                               text\n",
              "0         Pete The Cat Bedtime Blues Doll, 14.5 Inch  ...  Pete The Cat Bedtime Blues Doll, 14.5 InchPete...\n",
              "1  The New Yorker NYHM014 Refrigerator Magnet, 2 ...  ...  The New Yorker NYHM014 Refrigerator Magnet, 2 ...\n",
              "2  The Ultimate Self-Sufficiency Handbook: A Comp...  ...  The Ultimate Self-Sufficiency Handbook: A Comp...\n",
              "3   Amway Nutrilite Kids Chewable Iron Tablets (100)  ...  Amway Nutrilite Kids Chewable Iron Tablets (10...\n",
              "4  Teacher Planner Company A4 6 Lesson Academic T...  ...  Teacher Planner Company A4 6 Lesson Academic T...\n",
              "\n",
              "[5 rows x 6 columns]"
            ]
          },
          "metadata": {
            "tags": []
          },
          "execution_count": 8
        }
      ]
    },
    {
      "cell_type": "markdown",
      "metadata": {
        "id": "7SV6AbraPzgd"
      },
      "source": [
        "### let's take the necessary column which is further used for classification"
      ]
    },
    {
      "cell_type": "code",
      "metadata": {
        "colab": {
          "base_uri": "https://localhost:8080/",
          "height": 204
        },
        "id": "3eCiM-E4C488",
        "outputId": "95d7c14a-25a8-4c33-b57d-06d4252b0e28"
      },
      "source": [
        "train_data=train_data.drop(cols, axis=1)\n",
        "train_data.head()"
      ],
      "execution_count": 9,
      "outputs": [
        {
          "output_type": "execute_result",
          "data": {
            "text/html": [
              "<div>\n",
              "<style scoped>\n",
              "    .dataframe tbody tr th:only-of-type {\n",
              "        vertical-align: middle;\n",
              "    }\n",
              "\n",
              "    .dataframe tbody tr th {\n",
              "        vertical-align: top;\n",
              "    }\n",
              "\n",
              "    .dataframe thead th {\n",
              "        text-align: right;\n",
              "    }\n",
              "</style>\n",
              "<table border=\"1\" class=\"dataframe\">\n",
              "  <thead>\n",
              "    <tr style=\"text-align: right;\">\n",
              "      <th></th>\n",
              "      <th>BRAND</th>\n",
              "      <th>BROWSE_NODE_ID</th>\n",
              "      <th>text</th>\n",
              "    </tr>\n",
              "  </thead>\n",
              "  <tbody>\n",
              "    <tr>\n",
              "      <th>0</th>\n",
              "      <td>MerryMakers</td>\n",
              "      <td>0</td>\n",
              "      <td>Pete The Cat Bedtime Blues Doll, 14.5 InchPete...</td>\n",
              "    </tr>\n",
              "    <tr>\n",
              "      <th>1</th>\n",
              "      <td>The New Yorker</td>\n",
              "      <td>1</td>\n",
              "      <td>The New Yorker NYHM014 Refrigerator Magnet, 2 ...</td>\n",
              "    </tr>\n",
              "    <tr>\n",
              "      <th>2</th>\n",
              "      <td>imusti</td>\n",
              "      <td>2</td>\n",
              "      <td>The Ultimate Self-Sufficiency Handbook: A Comp...</td>\n",
              "    </tr>\n",
              "    <tr>\n",
              "      <th>3</th>\n",
              "      <td>Amway</td>\n",
              "      <td>3</td>\n",
              "      <td>Amway Nutrilite Kids Chewable Iron Tablets (10...</td>\n",
              "    </tr>\n",
              "    <tr>\n",
              "      <th>4</th>\n",
              "      <td>0</td>\n",
              "      <td>4</td>\n",
              "      <td>Teacher Planner Company A4 6 Lesson Academic T...</td>\n",
              "    </tr>\n",
              "  </tbody>\n",
              "</table>\n",
              "</div>"
            ],
            "text/plain": [
              "            BRAND  ...                                               text\n",
              "0     MerryMakers  ...  Pete The Cat Bedtime Blues Doll, 14.5 InchPete...\n",
              "1  The New Yorker  ...  The New Yorker NYHM014 Refrigerator Magnet, 2 ...\n",
              "2          imusti  ...  The Ultimate Self-Sufficiency Handbook: A Comp...\n",
              "3           Amway  ...  Amway Nutrilite Kids Chewable Iron Tablets (10...\n",
              "4               0  ...  Teacher Planner Company A4 6 Lesson Academic T...\n",
              "\n",
              "[5 rows x 3 columns]"
            ]
          },
          "metadata": {
            "tags": []
          },
          "execution_count": 9
        }
      ]
    },
    {
      "cell_type": "markdown",
      "metadata": {
        "id": "-GdPpzCzQO1n"
      },
      "source": [
        "### replacing punctuations with \" \""
      ]
    },
    {
      "cell_type": "code",
      "metadata": {
        "id": "TXkPJHjzC5Ak"
      },
      "source": [
        "import re\n",
        "punc = r'[^\\w\\s]|^[a-zA-z]+|[a-zA-z]+\"\" \"'\n",
        "for ele in train_data:\n",
        "\tif ele in punc:\n",
        "\t\ttrain_data =train_data.replace(ele, \"\")\n"
      ],
      "execution_count": 10,
      "outputs": []
    },
    {
      "cell_type": "code",
      "metadata": {
        "colab": {
          "base_uri": "https://localhost:8080/"
        },
        "id": "hLSeZkNMDbZO",
        "outputId": "7368cf6d-9f00-44a2-e456-9fe1b44262ae"
      },
      "source": [
        "import nltk\n",
        "nltk.download('stopwords')"
      ],
      "execution_count": 11,
      "outputs": [
        {
          "output_type": "stream",
          "text": [
            "[nltk_data] Downloading package stopwords to /root/nltk_data...\n",
            "[nltk_data]   Package stopwords is already up-to-date!\n"
          ],
          "name": "stdout"
        },
        {
          "output_type": "execute_result",
          "data": {
            "text/plain": [
              "True"
            ]
          },
          "metadata": {
            "tags": []
          },
          "execution_count": 11
        }
      ]
    },
    {
      "cell_type": "code",
      "metadata": {
        "id": "VFYctt3EDbcu"
      },
      "source": [
        "from string import punctuation\n",
        "stop_words = stopwords.words(\"english\")\n",
        "punctuation = punctuation + '\\n' + '—' + '“' + ',' + '”' + '‘' + '-' + '’'"
      ],
      "execution_count": 12,
      "outputs": []
    },
    {
      "cell_type": "code",
      "metadata": {
        "id": "LMqrE6EfDbgh"
      },
      "source": [
        "import string"
      ],
      "execution_count": 13,
      "outputs": []
    },
    {
      "cell_type": "markdown",
      "metadata": {
        "id": "S_-fNEaSQZP_"
      },
      "source": [
        "### make tokens from text using word_tokenize"
      ]
    },
    {
      "cell_type": "code",
      "metadata": {
        "id": "I0EcQWTqDbjV"
      },
      "source": [
        "train_data['text'] = train_data['text'].apply(lambda x: word_tokenize(x))"
      ],
      "execution_count": 14,
      "outputs": []
    },
    {
      "cell_type": "code",
      "metadata": {
        "id": "LUpgpeGgDbm-"
      },
      "source": [
        "def normalize_tokens(list_of_tokens):\n",
        "    return map(lambda x: x.lower(),list_of_tokens)"
      ],
      "execution_count": 15,
      "outputs": []
    },
    {
      "cell_type": "markdown",
      "metadata": {
        "id": "T15veABJQkH1"
      },
      "source": [
        "### let's convert all the letters in lower case\n"
      ]
    },
    {
      "cell_type": "code",
      "metadata": {
        "id": "MQcElZ79Dbwt"
      },
      "source": [
        "train_data['text'] = train_data['text'].apply(lambda x: normalize_tokens(x))\n",
        "train_data['text'] =train_data['text'].apply(lambda x: list(x))\n",
        "\n"
      ],
      "execution_count": 16,
      "outputs": []
    },
    {
      "cell_type": "code",
      "metadata": {
        "id": "gwO1JXyeDuu-",
        "colab": {
          "base_uri": "https://localhost:8080/"
        },
        "outputId": "dbec3e19-dc3b-4bb0-ba7c-f46e766bad24"
      },
      "source": [
        "import nltk\n",
        "nltk.download('averaged_perceptron_tagger')"
      ],
      "execution_count": 17,
      "outputs": [
        {
          "output_type": "stream",
          "text": [
            "[nltk_data] Downloading package averaged_perceptron_tagger to\n",
            "[nltk_data]     /root/nltk_data...\n",
            "[nltk_data]   Package averaged_perceptron_tagger is already up-to-\n",
            "[nltk_data]       date!\n"
          ],
          "name": "stdout"
        },
        {
          "output_type": "execute_result",
          "data": {
            "text/plain": [
              "True"
            ]
          },
          "metadata": {
            "tags": []
          },
          "execution_count": 17
        }
      ]
    },
    {
      "cell_type": "markdown",
      "metadata": {
        "id": "NZrsv6QJQpYf"
      },
      "source": [
        "### contractions expansion"
      ]
    },
    {
      "cell_type": "code",
      "metadata": {
        "id": "IOWjCS9PDuyH"
      },
      "source": [
        "def contracted_word_expansion(token):\n",
        "    if token in contractions_dict.keys():\n",
        "        return contractions_dict[token]\n",
        "    else:\n",
        "        return token"
      ],
      "execution_count": 18,
      "outputs": []
    },
    {
      "cell_type": "code",
      "metadata": {
        "id": "ZfDzPxSxDu1j"
      },
      "source": [
        "def contractions_expansion(list_of_tokens):\n",
        "    return map(contracted_word_expansion,list_of_tokens)"
      ],
      "execution_count": 19,
      "outputs": []
    },
    {
      "cell_type": "code",
      "metadata": {
        "id": "zE0k0XVWDu8g"
      },
      "source": [
        "from contractions import contractions_dict"
      ],
      "execution_count": 20,
      "outputs": []
    },
    {
      "cell_type": "code",
      "metadata": {
        "id": "F6HNoGTgDvCo"
      },
      "source": [
        "train_data['text'] = train_data['text'].apply(lambda x: contractions_expansion(x))\n",
        "train_data['text'] = train_data['text'].apply(lambda x: list(x))"
      ],
      "execution_count": 21,
      "outputs": []
    },
    {
      "cell_type": "markdown",
      "metadata": {
        "id": "Zyx8TBFdQwcH"
      },
      "source": [
        "### regex to remove unnecessary things from text"
      ]
    },
    {
      "cell_type": "code",
      "metadata": {
        "id": "3qXRCwNTDvFc"
      },
      "source": [
        "regex = r'^@[a-zA-z0-9]|^#[a-zA-Z0-9]|\\w+:\\/{2}[\\d\\w-]+(\\.[\\d\\w-]+)*(?:(?:\\/[^\\s/]*))*|\\W+|\\d+|<(\"[^\"]*\"|\\'[^\\']*\\'|[^\\'\">])*>|_+|[^\\u0000-\\u007f]+'"
      ],
      "execution_count": 22,
      "outputs": []
    },
    {
      "cell_type": "code",
      "metadata": {
        "id": "LcNGBvHHDvIa"
      },
      "source": [
        "def waste_word_or_not(token):\n",
        "    return re.search(regex,token)"
      ],
      "execution_count": 23,
      "outputs": []
    },
    {
      "cell_type": "code",
      "metadata": {
        "id": "GKWFJRQ0DvLn"
      },
      "source": [
        "def filter_waste_words(list_of_tokens):\n",
        "    return filterfalse(waste_word_or_not,list_of_tokens)"
      ],
      "execution_count": 24,
      "outputs": []
    },
    {
      "cell_type": "code",
      "metadata": {
        "id": "GSQwx3gpDvPC"
      },
      "source": [
        "train_data['text'] = train_data['text'].apply(lambda x: filter_waste_words(x))\n",
        "train_data['text'] = train_data['text'].apply(lambda x: list(x))"
      ],
      "execution_count": 25,
      "outputs": []
    },
    {
      "cell_type": "code",
      "metadata": {
        "id": "Q8CEdpaDEMQ_"
      },
      "source": [
        "def split(list_of_tokens):\n",
        "    return map(lambda x: re.split(regex,x)[0],list_of_tokens)"
      ],
      "execution_count": 26,
      "outputs": []
    },
    {
      "cell_type": "code",
      "metadata": {
        "id": "Fuw1yMrDEMUE"
      },
      "source": [
        "train_data['text'] = train_data['text'].apply(lambda x: split(x))\n",
        "train_data['text'] = train_data['text'].apply(lambda x: list(x))\n"
      ],
      "execution_count": 27,
      "outputs": []
    },
    {
      "cell_type": "markdown",
      "metadata": {
        "id": "Km9jAMsVQ8FZ"
      },
      "source": [
        "### let's remove stopwards"
      ]
    },
    {
      "cell_type": "code",
      "metadata": {
        "colab": {
          "base_uri": "https://localhost:8080/"
        },
        "id": "H3n-MjRaEMXu",
        "outputId": "8bb5c4aa-cd20-45c8-8d37-dfd0d72d9388"
      },
      "source": [
        "import nltk\n",
        "nltk.download('stopwords')"
      ],
      "execution_count": 28,
      "outputs": [
        {
          "output_type": "stream",
          "text": [
            "[nltk_data] Downloading package stopwords to /root/nltk_data...\n",
            "[nltk_data]   Package stopwords is already up-to-date!\n"
          ],
          "name": "stdout"
        },
        {
          "output_type": "execute_result",
          "data": {
            "text/plain": [
              "True"
            ]
          },
          "metadata": {
            "tags": []
          },
          "execution_count": 28
        }
      ]
    },
    {
      "cell_type": "code",
      "metadata": {
        "id": "iTiyCxpYEYz4"
      },
      "source": [
        "en_stop_words = list(set(stopwords.words('english')).union(set(STOP_WORDS)))"
      ],
      "execution_count": 29,
      "outputs": []
    },
    {
      "cell_type": "code",
      "metadata": {
        "id": "AdOsN39JEY24"
      },
      "source": [
        "def is_stopword(token):\n",
        "    return not(token in en_stop_words or re.search(r'\\b\\w\\b|[^\\u0000-\\u007f]+|_+|\\W+',token))"
      ],
      "execution_count": 30,
      "outputs": []
    },
    {
      "cell_type": "code",
      "metadata": {
        "id": "4GRUCbcdEY6A"
      },
      "source": [
        "def stopwords_removal(list_of_tokens):\n",
        "    return filter(is_stopword,list_of_tokens)"
      ],
      "execution_count": 31,
      "outputs": []
    },
    {
      "cell_type": "code",
      "metadata": {
        "id": "UmYDCu7JEY9D"
      },
      "source": [
        "train_data['text'] = train_data['text'].apply(lambda x: stopwords_removal(x))\n",
        "train_data['text'] = train_data['text'].apply(lambda x: list(x))"
      ],
      "execution_count": 32,
      "outputs": []
    },
    {
      "cell_type": "markdown",
      "metadata": {
        "id": "LFDIUoecYs8S"
      },
      "source": [
        "### function to apply stemming\n",
        "\n"
      ]
    },
    {
      "cell_type": "code",
      "metadata": {
        "id": "YkNJCwq4EZAB"
      },
      "source": [
        "from nltk.stem import PorterStemmer\n",
        "porter = PorterStemmer()\n",
        "\n",
        "def stemmer(stem_text):\n",
        "    stem_text = [porter.stem(word) for word in stem_text]\n",
        "    return \" \".join(stem_text)"
      ],
      "execution_count": 33,
      "outputs": []
    },
    {
      "cell_type": "code",
      "metadata": {
        "id": "DBds1X6lErJN"
      },
      "source": [
        "train_data['text'] = train_data['text'].apply(stemmer)\n"
      ],
      "execution_count": 34,
      "outputs": []
    },
    {
      "cell_type": "markdown",
      "metadata": {
        "id": "-0DYy5dsY9Td"
      },
      "source": [
        "### again tokenize the lines into words\n"
      ]
    },
    {
      "cell_type": "code",
      "metadata": {
        "id": "52zuCBsxErMh"
      },
      "source": [
        "\n",
        "train_data['text'] = train_data['text'].apply(lambda x: word_tokenize(x))"
      ],
      "execution_count": 35,
      "outputs": []
    },
    {
      "cell_type": "markdown",
      "metadata": {
        "id": "XgbyFXNAZhkO"
      },
      "source": [
        "### let's collect 10 most occuring words from each string"
      ]
    },
    {
      "cell_type": "code",
      "metadata": {
        "id": "pX0yKT5GErP_"
      },
      "source": [
        "from collections import Counter"
      ],
      "execution_count": 36,
      "outputs": []
    },
    {
      "cell_type": "code",
      "metadata": {
        "id": "zCSQC4jFErS_"
      },
      "source": [
        "train_data['text']=train_data['text'].apply(lambda x:[k for k, v in Counter(x).most_common(5)])\n"
      ],
      "execution_count": 37,
      "outputs": []
    },
    {
      "cell_type": "code",
      "metadata": {
        "id": "U71pxkfPErWd"
      },
      "source": [
        "train_data=train_data.drop(columns='BRAND',axis=1)\n"
      ],
      "execution_count": 38,
      "outputs": []
    },
    {
      "cell_type": "markdown",
      "metadata": {
        "id": "otdz7G8WZpuT"
      },
      "source": [
        "### convert list into string"
      ]
    },
    {
      "cell_type": "code",
      "metadata": {
        "id": "5Dhhhqq7ErZk"
      },
      "source": [
        "def listtostring(s):\n",
        "\n",
        "  text = \", \"\n",
        "  return (text.join(s))"
      ],
      "execution_count": 39,
      "outputs": []
    },
    {
      "cell_type": "code",
      "metadata": {
        "id": "69MkkJe_Ercu"
      },
      "source": [
        "train_data['text']=train_data['text'].apply(lambda x:listtostring(x))\n"
      ],
      "execution_count": 40,
      "outputs": []
    },
    {
      "cell_type": "code",
      "metadata": {
        "id": "YxszNN3PG08p"
      },
      "source": [
        ""
      ],
      "execution_count": 40,
      "outputs": []
    },
    {
      "cell_type": "markdown",
      "metadata": {
        "id": "7dPpXD4WZxug"
      },
      "source": [
        "To run machine learning algorithms we need to convert the text files into numerical feature vectors. We will use bag of words model for our analysis. In general we segment each text file into words and count of times each word occurs in each document and finally assign each word an integer id. Each unique word in our dictionary will correspond to a feature (descriptive feature).\n",
        "\n",
        "More precisely we will convert our text documents to a matrix of token counts (CountVectorizer), then transform a count matrix to a normalized tf-idf representation (tf-idf transformer).\n",
        "\n"
      ]
    },
    {
      "cell_type": "code",
      "metadata": {
        "id": "17eE6PJ1Erfe"
      },
      "source": [
        "from sklearn.feature_extraction.text import CountVectorizer\n",
        "from sklearn.feature_extraction.text import TfidfVectorizer\n",
        "from sklearn.feature_extraction.text import TfidfTransformer\n",
        "from sklearn.pipeline import Pipeline\n"
      ],
      "execution_count": 41,
      "outputs": []
    },
    {
      "cell_type": "markdown",
      "metadata": {
        "id": "DOGQFMb4aji5"
      },
      "source": [
        "###countervectorizer"
      ]
    },
    {
      "cell_type": "code",
      "metadata": {
        "id": "YyCgSV2zErij"
      },
      "source": [
        "vectorizer = CountVectorizer()\n",
        "vectorizer.fit(train_data['text'])\n",
        "vector = vectorizer.transform(train_data['text']).toarray()"
      ],
      "execution_count": null,
      "outputs": []
    },
    {
      "cell_type": "markdown",
      "metadata": {
        "id": "DSDGs_P5asN9"
      },
      "source": [
        "###tf-idf"
      ]
    },
    {
      "cell_type": "code",
      "metadata": {
        "id": "VadphKJxErl8",
        "colab": {
          "base_uri": "https://localhost:8080/"
        },
        "outputId": "b54ee5b1-05a1-4bfc-c4b2-f5bdf9d22d54"
      },
      "source": [
        "tfidf_converter = TfidfTransformer()\n",
        "X_tfidf = tfidf_converter.fit_transform(vector).toarray()\n",
        "X_tfidf"
      ],
      "execution_count": 45,
      "outputs": [
        {
          "output_type": "execute_result",
          "data": {
            "text/plain": [
              "array([[0., 0., 0., ..., 0., 0., 0.],\n",
              "       [0., 0., 0., ..., 0., 0., 0.],\n",
              "       [0., 0., 0., ..., 0., 0., 0.],\n",
              "       ...,\n",
              "       [0., 0., 0., ..., 0., 0., 0.],\n",
              "       [0., 0., 0., ..., 0., 0., 0.],\n",
              "       [0., 0., 0., ..., 0., 0., 0.]])"
            ]
          },
          "metadata": {
            "tags": []
          },
          "execution_count": 45
        }
      ]
    },
    {
      "cell_type": "markdown",
      "metadata": {
        "id": "H9MstqJqbApK"
      },
      "source": [
        "###Spliting the data into train and test sets:\n",
        "\n"
      ]
    },
    {
      "cell_type": "code",
      "metadata": {
        "id": "Kh9HlsYHEZDW"
      },
      "source": [
        "from sklearn.model_selection import train_test_split\n"
      ],
      "execution_count": 42,
      "outputs": []
    },
    {
      "cell_type": "code",
      "metadata": {
        "id": "xNNET1e4EZJR"
      },
      "source": [
        "X = train_data['text']\n",
        "y = train_data['BROWSE_NODE_ID']\n",
        "\n",
        "X_train, X_test, y_train, y_test = train_test_split(X, y, test_size=0.2)\n"
      ],
      "execution_count": 43,
      "outputs": []
    },
    {
      "cell_type": "code",
      "metadata": {
        "id": "CVG9wtbAFNZQ",
        "colab": {
          "base_uri": "https://localhost:8080/"
        },
        "outputId": "943fc84e-93a1-419c-c761-863ecfed7cf9"
      },
      "source": [
        "X_train.shape, X_test.shape, y_train.shape, y_test.shape"
      ],
      "execution_count": 44,
      "outputs": [
        {
          "output_type": "execute_result",
          "data": {
            "text/plain": [
              "((120000,), (30000,), (120000,), (30000,))"
            ]
          },
          "metadata": {
            "tags": []
          },
          "execution_count": 44
        }
      ]
    },
    {
      "cell_type": "markdown",
      "metadata": {
        "id": "u5eI9ykvb6gV"
      },
      "source": [
        "###train the model \n",
        "\n"
      ]
    },
    {
      "cell_type": "code",
      "metadata": {
        "id": "ktbeI88sFNcY"
      },
      "source": [
        "from sklearn.svm import LinearSVC\n",
        "\n",
        "svc = Pipeline([('vect', CountVectorizer(min_df=5, ngram_range=(1,2))),\n",
        "               ('tfidf', TfidfTransformer()),\n",
        "               ('model',LinearSVC()),\n",
        "               ])\n",
        "\n",
        "svc.fit(X_train, y_train)\n",
        "\n",
        "ytest = np.array(y_test)\n",
        "y_pred = svc.predict(X_test)"
      ],
      "execution_count": 45,
      "outputs": []
    },
    {
      "cell_type": "markdown",
      "metadata": {
        "id": "NMcPw21SJMpY"
      },
      "source": [
        "###accuracy score"
      ]
    },
    {
      "cell_type": "code",
      "metadata": {
        "id": "Noxh0MV9FNfl",
        "colab": {
          "base_uri": "https://localhost:8080/"
        },
        "outputId": "8040b56b-12f4-4109-90d3-88cafc8b2fb2"
      },
      "source": [
        "from sklearn.metrics import accuracy_score, classification_report\n",
        "print('accuracy %s' % accuracy_score(y_pred, y_test))\n"
      ],
      "execution_count": 46,
      "outputs": [
        {
          "output_type": "stream",
          "text": [
            "accuracy 0.5532333333333334\n"
          ],
          "name": "stdout"
        }
      ]
    },
    {
      "cell_type": "markdown",
      "metadata": {
        "id": "JMNFbZqNIByA"
      },
      "source": [
        "###let's  save our model as a pickle object in Python."
      ]
    },
    {
      "cell_type": "code",
      "metadata": {
        "id": "jy46IALRFNi8"
      },
      "source": [
        "import pickle\n",
        "with open('text_classifier', 'wb') as picklefile:\n",
        "    pickle.dump(svc,picklefile)"
      ],
      "execution_count": 47,
      "outputs": []
    },
    {
      "cell_type": "markdown",
      "metadata": {
        "id": "XTcgEwBEJDXP"
      },
      "source": [
        "###load the model"
      ]
    },
    {
      "cell_type": "code",
      "metadata": {
        "id": "c7snIwiDFNtD"
      },
      "source": [
        "import pickle\n",
        "with open('/content/text_classifier', 'rb') as training_model:\n",
        "    model = pickle.load(training_model)\n"
      ],
      "execution_count": 1,
      "outputs": []
    },
    {
      "cell_type": "markdown",
      "metadata": {
        "id": "N2QmcUAjJTNl"
      },
      "source": [
        "###reading  the testing data"
      ]
    },
    {
      "cell_type": "code",
      "metadata": {
        "id": "PtvzDN-SEZQX"
      },
      "source": [
        "import pandas as pd\n",
        "import csv\n",
        "test_data =pd.read_csv(\"/content/dataset/test.csv\",escapechar=\"\\\\\",quoting=csv.QUOTE_NONE)\n"
      ],
      "execution_count": 2,
      "outputs": []
    },
    {
      "cell_type": "code",
      "metadata": {
        "id": "mdP1317sFdCI"
      },
      "source": [
        "\n",
        "cols = ['TITLE','DESCRIPTION','BULLET_POINTS']\n",
        "test_data[\"text\"] =test_data[\"TITLE\"].astype(str) + test_data[\"DESCRIPTION\"].astype(str) + test_data[\"BULLET_POINTS\"].astype(str)\n",
        "test_data=test_data.drop(cols, axis=1)"
      ],
      "execution_count": 3,
      "outputs": []
    },
    {
      "cell_type": "code",
      "metadata": {
        "id": "jyHJ9mXrFdFM",
        "colab": {
          "base_uri": "https://localhost:8080/",
          "height": 204
        },
        "outputId": "9d9eedde-b4d0-4403-caa5-8d83488e457e"
      },
      "source": [
        "test_data.head()"
      ],
      "execution_count": 4,
      "outputs": [
        {
          "output_type": "execute_result",
          "data": {
            "text/html": [
              "<div>\n",
              "<style scoped>\n",
              "    .dataframe tbody tr th:only-of-type {\n",
              "        vertical-align: middle;\n",
              "    }\n",
              "\n",
              "    .dataframe tbody tr th {\n",
              "        vertical-align: top;\n",
              "    }\n",
              "\n",
              "    .dataframe thead th {\n",
              "        text-align: right;\n",
              "    }\n",
              "</style>\n",
              "<table border=\"1\" class=\"dataframe\">\n",
              "  <thead>\n",
              "    <tr style=\"text-align: right;\">\n",
              "      <th></th>\n",
              "      <th>PRODUCT_ID</th>\n",
              "      <th>BRAND</th>\n",
              "      <th>text</th>\n",
              "    </tr>\n",
              "  </thead>\n",
              "  <tbody>\n",
              "    <tr>\n",
              "      <th>0</th>\n",
              "      <td>1</td>\n",
              "      <td>Command</td>\n",
              "      <td>Command 3M Small Kitchen Hooks, White, Decorat...</td>\n",
              "    </tr>\n",
              "    <tr>\n",
              "      <th>1</th>\n",
              "      <td>2</td>\n",
              "      <td>O'Neal</td>\n",
              "      <td>O'Neal Jump Hardware JAG Unisex-Adult Glove (B...</td>\n",
              "    </tr>\n",
              "    <tr>\n",
              "      <th>2</th>\n",
              "      <td>3</td>\n",
              "      <td>Boelter Brands</td>\n",
              "      <td>NFL Detroit Lions Portable Party Fridge, 15.8 ...</td>\n",
              "    </tr>\n",
              "    <tr>\n",
              "      <th>3</th>\n",
              "      <td>4</td>\n",
              "      <td>Panasonic</td>\n",
              "      <td>Panasonic Single Line KX-TS880MX Corded Phone ...</td>\n",
              "    </tr>\n",
              "    <tr>\n",
              "      <th>4</th>\n",
              "      <td>5</td>\n",
              "      <td>Zero</td>\n",
              "      <td>Zero Baby Girl's 100% Cotton Innerwear Bloomer...</td>\n",
              "    </tr>\n",
              "  </tbody>\n",
              "</table>\n",
              "</div>"
            ],
            "text/plain": [
              "   PRODUCT_ID  ...                                               text\n",
              "0           1  ...  Command 3M Small Kitchen Hooks, White, Decorat...\n",
              "1           2  ...  O'Neal Jump Hardware JAG Unisex-Adult Glove (B...\n",
              "2           3  ...  NFL Detroit Lions Portable Party Fridge, 15.8 ...\n",
              "3           4  ...  Panasonic Single Line KX-TS880MX Corded Phone ...\n",
              "4           5  ...  Zero Baby Girl's 100% Cotton Innerwear Bloomer...\n",
              "\n",
              "[5 rows x 3 columns]"
            ]
          },
          "metadata": {
            "tags": []
          },
          "execution_count": 4
        }
      ]
    },
    {
      "cell_type": "code",
      "metadata": {
        "id": "fZcEVAB6FdIY"
      },
      "source": [
        "X_test=test_data['text']"
      ],
      "execution_count": 5,
      "outputs": []
    },
    {
      "cell_type": "code",
      "metadata": {
        "id": "qxJ-bqUbFdLA"
      },
      "source": [
        "prediction= model.predict(X_test)\n"
      ],
      "execution_count": 6,
      "outputs": []
    },
    {
      "cell_type": "markdown",
      "metadata": {
        "id": "TyGP82khJkkR"
      },
      "source": [
        "###prediction for test data"
      ]
    },
    {
      "cell_type": "code",
      "metadata": {
        "id": "XtHUpciGFdQx",
        "colab": {
          "base_uri": "https://localhost:8080/"
        },
        "outputId": "37c5a214-e32f-4576-d523-f4eaa8e4e09c"
      },
      "source": [
        "prediction"
      ],
      "execution_count": 7,
      "outputs": [
        {
          "output_type": "execute_result",
          "data": {
            "text/plain": [
              "array([101900,  15772,    180, ...,      5,    800,      5])"
            ]
          },
          "metadata": {
            "tags": []
          },
          "execution_count": 7
        }
      ]
    },
    {
      "cell_type": "markdown",
      "metadata": {
        "id": "hcqYPHmVJ9ZX"
      },
      "source": [
        "### defining the browse_node_id according to their product id as per the hackathon"
      ]
    },
    {
      "cell_type": "code",
      "metadata": {
        "id": "VdQbV4ewFdW9",
        "colab": {
          "base_uri": "https://localhost:8080/",
          "height": 419
        },
        "outputId": "459faeb6-ce34-482e-acbc-0371b053bd06"
      },
      "source": [
        "submission= pd.DataFrame(prediction, columns=['BROWSE_NODE_ID'])\n",
        "submission = pd.concat([test_data['PRODUCT_ID'], submission], axis=1)\n",
        "submission.columns =['PRODUCT_ID','BROWSE_NODE_ID']\n",
        "submission"
      ],
      "execution_count": 9,
      "outputs": [
        {
          "output_type": "execute_result",
          "data": {
            "text/html": [
              "<div>\n",
              "<style scoped>\n",
              "    .dataframe tbody tr th:only-of-type {\n",
              "        vertical-align: middle;\n",
              "    }\n",
              "\n",
              "    .dataframe tbody tr th {\n",
              "        vertical-align: top;\n",
              "    }\n",
              "\n",
              "    .dataframe thead th {\n",
              "        text-align: right;\n",
              "    }\n",
              "</style>\n",
              "<table border=\"1\" class=\"dataframe\">\n",
              "  <thead>\n",
              "    <tr style=\"text-align: right;\">\n",
              "      <th></th>\n",
              "      <th>PRODUCT_ID</th>\n",
              "      <th>BROWSE_NODE_ID</th>\n",
              "    </tr>\n",
              "  </thead>\n",
              "  <tbody>\n",
              "    <tr>\n",
              "      <th>0</th>\n",
              "      <td>1</td>\n",
              "      <td>101900</td>\n",
              "    </tr>\n",
              "    <tr>\n",
              "      <th>1</th>\n",
              "      <td>2</td>\n",
              "      <td>15772</td>\n",
              "    </tr>\n",
              "    <tr>\n",
              "      <th>2</th>\n",
              "      <td>3</td>\n",
              "      <td>180</td>\n",
              "    </tr>\n",
              "    <tr>\n",
              "      <th>3</th>\n",
              "      <td>4</td>\n",
              "      <td>604</td>\n",
              "    </tr>\n",
              "    <tr>\n",
              "      <th>4</th>\n",
              "      <td>5</td>\n",
              "      <td>1138</td>\n",
              "    </tr>\n",
              "    <tr>\n",
              "      <th>...</th>\n",
              "      <td>...</td>\n",
              "      <td>...</td>\n",
              "    </tr>\n",
              "    <tr>\n",
              "      <th>110770</th>\n",
              "      <td>110771</td>\n",
              "      <td>2888</td>\n",
              "    </tr>\n",
              "    <tr>\n",
              "      <th>110771</th>\n",
              "      <td>110772</td>\n",
              "      <td>1194</td>\n",
              "    </tr>\n",
              "    <tr>\n",
              "      <th>110772</th>\n",
              "      <td>110773</td>\n",
              "      <td>5</td>\n",
              "    </tr>\n",
              "    <tr>\n",
              "      <th>110773</th>\n",
              "      <td>110774</td>\n",
              "      <td>800</td>\n",
              "    </tr>\n",
              "    <tr>\n",
              "      <th>110774</th>\n",
              "      <td>110775</td>\n",
              "      <td>5</td>\n",
              "    </tr>\n",
              "  </tbody>\n",
              "</table>\n",
              "<p>110775 rows × 2 columns</p>\n",
              "</div>"
            ],
            "text/plain": [
              "        PRODUCT_ID  BROWSE_NODE_ID\n",
              "0                1          101900\n",
              "1                2           15772\n",
              "2                3             180\n",
              "3                4             604\n",
              "4                5            1138\n",
              "...            ...             ...\n",
              "110770      110771            2888\n",
              "110771      110772            1194\n",
              "110772      110773               5\n",
              "110773      110774             800\n",
              "110774      110775               5\n",
              "\n",
              "[110775 rows x 2 columns]"
            ]
          },
          "metadata": {
            "tags": []
          },
          "execution_count": 9
        }
      ]
    },
    {
      "cell_type": "code",
      "metadata": {
        "id": "4rtHLeO1EsMG"
      },
      "source": [
        "submission.to_csv('sub.csv', index=False)"
      ],
      "execution_count": 10,
      "outputs": []
    },
    {
      "cell_type": "code",
      "metadata": {
        "id": "3sJUlidgEsPF"
      },
      "source": [
        "submission_df=pd.read_csv('sub.csv')"
      ],
      "execution_count": 11,
      "outputs": []
    },
    {
      "cell_type": "code",
      "metadata": {
        "colab": {
          "base_uri": "https://localhost:8080/",
          "height": 419
        },
        "id": "p18eFf6bEsSk",
        "outputId": "df15f2c2-565d-4a46-d42a-1ce470eb063d"
      },
      "source": [
        "submission_df"
      ],
      "execution_count": 12,
      "outputs": [
        {
          "output_type": "execute_result",
          "data": {
            "text/html": [
              "<div>\n",
              "<style scoped>\n",
              "    .dataframe tbody tr th:only-of-type {\n",
              "        vertical-align: middle;\n",
              "    }\n",
              "\n",
              "    .dataframe tbody tr th {\n",
              "        vertical-align: top;\n",
              "    }\n",
              "\n",
              "    .dataframe thead th {\n",
              "        text-align: right;\n",
              "    }\n",
              "</style>\n",
              "<table border=\"1\" class=\"dataframe\">\n",
              "  <thead>\n",
              "    <tr style=\"text-align: right;\">\n",
              "      <th></th>\n",
              "      <th>PRODUCT_ID</th>\n",
              "      <th>BROWSE_NODE_ID</th>\n",
              "    </tr>\n",
              "  </thead>\n",
              "  <tbody>\n",
              "    <tr>\n",
              "      <th>0</th>\n",
              "      <td>1</td>\n",
              "      <td>101900</td>\n",
              "    </tr>\n",
              "    <tr>\n",
              "      <th>1</th>\n",
              "      <td>2</td>\n",
              "      <td>15772</td>\n",
              "    </tr>\n",
              "    <tr>\n",
              "      <th>2</th>\n",
              "      <td>3</td>\n",
              "      <td>180</td>\n",
              "    </tr>\n",
              "    <tr>\n",
              "      <th>3</th>\n",
              "      <td>4</td>\n",
              "      <td>604</td>\n",
              "    </tr>\n",
              "    <tr>\n",
              "      <th>4</th>\n",
              "      <td>5</td>\n",
              "      <td>1138</td>\n",
              "    </tr>\n",
              "    <tr>\n",
              "      <th>...</th>\n",
              "      <td>...</td>\n",
              "      <td>...</td>\n",
              "    </tr>\n",
              "    <tr>\n",
              "      <th>110770</th>\n",
              "      <td>110771</td>\n",
              "      <td>2888</td>\n",
              "    </tr>\n",
              "    <tr>\n",
              "      <th>110771</th>\n",
              "      <td>110772</td>\n",
              "      <td>1194</td>\n",
              "    </tr>\n",
              "    <tr>\n",
              "      <th>110772</th>\n",
              "      <td>110773</td>\n",
              "      <td>5</td>\n",
              "    </tr>\n",
              "    <tr>\n",
              "      <th>110773</th>\n",
              "      <td>110774</td>\n",
              "      <td>800</td>\n",
              "    </tr>\n",
              "    <tr>\n",
              "      <th>110774</th>\n",
              "      <td>110775</td>\n",
              "      <td>5</td>\n",
              "    </tr>\n",
              "  </tbody>\n",
              "</table>\n",
              "<p>110775 rows × 2 columns</p>\n",
              "</div>"
            ],
            "text/plain": [
              "        PRODUCT_ID  BROWSE_NODE_ID\n",
              "0                1          101900\n",
              "1                2           15772\n",
              "2                3             180\n",
              "3                4             604\n",
              "4                5            1138\n",
              "...            ...             ...\n",
              "110770      110771            2888\n",
              "110771      110772            1194\n",
              "110772      110773               5\n",
              "110773      110774             800\n",
              "110774      110775               5\n",
              "\n",
              "[110775 rows x 2 columns]"
            ]
          },
          "metadata": {
            "tags": []
          },
          "execution_count": 12
        }
      ]
    },
    {
      "cell_type": "code",
      "metadata": {
        "id": "Va_-n8bCIgLf"
      },
      "source": [
        ""
      ],
      "execution_count": null,
      "outputs": []
    }
  ]
}